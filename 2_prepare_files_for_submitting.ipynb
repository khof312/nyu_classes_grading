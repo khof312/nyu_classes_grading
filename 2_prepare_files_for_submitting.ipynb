{
 "cells": [
  {
   "cell_type": "markdown",
   "metadata": {
    "toc": true
   },
   "source": [
    "<h1>Table of Contents<span class=\"tocSkip\"></span></h1>\n",
    "<div class=\"toc\"><ul class=\"toc-item\"></ul></div>"
   ]
  },
  {
   "cell_type": "code",
   "execution_count": null,
   "metadata": {},
   "outputs": [],
   "source": [
    "import os\n",
    "from shutil import copyfile\n",
    "import sys\n",
    "import win32com.client\n",
    "import comtypes.client"
   ]
  },
  {
   "cell_type": "code",
   "execution_count": null,
   "metadata": {},
   "outputs": [],
   "source": [
    "asg = 'HW2'"
   ]
  },
  {
   "cell_type": "code",
   "execution_count": null,
   "metadata": {},
   "outputs": [],
   "source": [
    "# Here, put the unzipped file you downloaded from NYU classes\n",
    "student_list = os.listdir('1_assignments/'+asg+'/submitted/')\n",
    "\n",
    "# Get a list for all student submissions except for the top-level grades file\n",
    "student_list = [i for i in student_list if i!=\"grades.csv\"]\n",
    "\n",
    "# List what's in the folder\n",
    "assignment_list = os.listdir('1_assignments/'+asg+'/graded/')"
   ]
  },
  {
   "cell_type": "code",
   "execution_count": null,
   "metadata": {},
   "outputs": [],
   "source": [
    "for a in assignment_list:\n",
    "    \n",
    "    # Get the name of the student\n",
    "    target = [i for i in student_list if a.split(\".\")[0] in i]\n",
    "    \n",
    "    if len(target)>0:\n",
    "        assert(len(target)==1)\n",
    "        \n",
    "        # Copy the file from the \"graded\" folder back into the \"submitted\" folder where you have \"feedback attachments\"\n",
    "        # Then you can zip this whole thing (with the grades.csv) and load back to NYU classes\n",
    "        source = '1_assignments/'+asg+'/graded/' + a\n",
    "        target = '1_assignments/'+asg+'/submitted/' + target[0] + '/Feedback Attachment(s)/' + a\n",
    "        print (source)\n",
    "        print (target)\n",
    "        print (\"\\n\")\n",
    "        \n",
    "        copyfile(source, target)"
   ]
  },
  {
   "cell_type": "code",
   "execution_count": null,
   "metadata": {},
   "outputs": [],
   "source": [
    "# Check the result\n",
    "student_list = os.listdir('1_assignments/'+asg+'/submitted/')\n",
    "\n",
    "for s in student_list:\n",
    "    if \".csv\" not in s:\n",
    "        print(s, os.listdir('1_assignments/'+asg+'/submitted/' + s + \"/Feedback Attachment(s)\"))"
   ]
  }
 ],
 "metadata": {
  "kernelspec": {
   "display_name": "Python 3",
   "language": "python",
   "name": "python3"
  },
  "language_info": {
   "codemirror_mode": {
    "name": "ipython",
    "version": 3
   },
   "file_extension": ".py",
   "mimetype": "text/x-python",
   "name": "python",
   "nbconvert_exporter": "python",
   "pygments_lexer": "ipython3",
   "version": "3.6.6"
  },
  "latex_envs": {
   "LaTeX_envs_menu_present": true,
   "autoclose": false,
   "autocomplete": true,
   "bibliofile": "biblio.bib",
   "cite_by": "apalike",
   "current_citInitial": 1,
   "eqLabelWithNumbers": true,
   "eqNumInitial": 1,
   "hotkeys": {
    "equation": "Ctrl-E",
    "itemize": "Ctrl-I"
   },
   "labels_anchors": false,
   "latex_user_defs": false,
   "report_style_numbering": false,
   "user_envs_cfg": false
  },
  "toc": {
   "base_numbering": 1,
   "nav_menu": {},
   "number_sections": true,
   "sideBar": true,
   "skip_h1_title": true,
   "title_cell": "Table of Contents",
   "title_sidebar": "Contents",
   "toc_cell": true,
   "toc_position": {},
   "toc_section_display": true,
   "toc_window_display": true
  },
  "varInspector": {
   "cols": {
    "lenName": 16,
    "lenType": 16,
    "lenVar": 40
   },
   "kernels_config": {
    "python": {
     "delete_cmd_postfix": "",
     "delete_cmd_prefix": "del ",
     "library": "var_list.py",
     "varRefreshCmd": "print(var_dic_list())"
    },
    "r": {
     "delete_cmd_postfix": ") ",
     "delete_cmd_prefix": "rm(",
     "library": "var_list.r",
     "varRefreshCmd": "cat(var_dic_list()) "
    }
   },
   "types_to_exclude": [
    "module",
    "function",
    "builtin_function_or_method",
    "instance",
    "_Feature"
   ],
   "window_display": false
  }
 },
 "nbformat": 4,
 "nbformat_minor": 4
}
