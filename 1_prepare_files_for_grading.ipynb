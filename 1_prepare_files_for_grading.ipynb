{
 "cells": [
  {
   "cell_type": "markdown",
   "metadata": {
    "toc": true
   },
   "source": [
    "<h1>Table of Contents<span class=\"tocSkip\"></span></h1>\n",
    "<div class=\"toc\"><ul class=\"toc-item\"></ul></div>"
   ]
  },
  {
   "cell_type": "code",
   "execution_count": null,
   "metadata": {},
   "outputs": [],
   "source": [
    "import os\n",
    "from shutil import copyfile\n",
    "import sys\n",
    "import win32com.client\n",
    "import comtypes.client"
   ]
  },
  {
   "cell_type": "code",
   "execution_count": null,
   "metadata": {},
   "outputs": [],
   "source": [
    "# Here, put the unzipped file you downloaded from NYU classes\n",
    "student_list = os.listdir('1_assignments/HW2/submitted/')\n",
    "\n",
    "# Get a list for all student submissions except for the top-level grades file\n",
    "student_list = [i for i in student_list if i!=\"grades.csv\"]\n",
    "\n",
    "# Check what's in the folder\n",
    "os.listdir(f\"1_assignments/HW2/submitted/\")"
   ]
  },
  {
   "cell_type": "code",
   "execution_count": null,
   "metadata": {},
   "outputs": [],
   "source": [
    "# If there is not a folder for the copies you want to grade, create one\n",
    "try:\n",
    "    os.mkdir(\"1_assignments/HW2/grading/\")\n",
    "except:\n",
    "    print(\"Directory exists.\")"
   ]
  },
  {
   "cell_type": "code",
   "execution_count": null,
   "metadata": {},
   "outputs": [],
   "source": [
    "wdFormatPDF = 17\n",
    "word = comtypes.client.CreateObject('Word.Application')\n",
    "\n",
    "for s in student_list:\n",
    "    \n",
    "    # Extract the net id\n",
    "    net_id = s.split(\"(\")[1][:-1]\n",
    "    \n",
    "    # Extract the list of files the student submitted\n",
    "    file_list = os.listdir(f\"1_assignments/HW2/submitted/{s}/Submission attachment(s)\")\n",
    "    print(file_list)\n",
    "    \n",
    "    # Move the files into the \"graded\" folder and rename them with the student's net_id \n",
    "    # so that you can easily scroll through the submissions\n",
    "    i=0\n",
    "    for f in file_list:\n",
    "        try:\n",
    "            if '~$' not in f:\n",
    "                \n",
    "                \n",
    "                # Save as net_id.pdf if it's the first file\n",
    "                if i==0:\n",
    "                    dest = f\"1_assignments/HW2/grading/{net_id}\"\n",
    "                \n",
    "                # Otherwise add a suffix to count the file number\n",
    "                else:\n",
    "                    dest = f\"1_assignments/HW2/grading/{net_id}_{i+1}\"\n",
    "                \n",
    "                \n",
    "                \n",
    "                # If PDF or PNG, just move it\n",
    "                if '.pdf' in f:\n",
    "                    copyfile(f\"1_assignments/HW2/submitted/{s}/Submission attachment(s)/{f}\",\n",
    "                             f\"{dest}.pdf\")\n",
    "\n",
    "                elif '.png' in f:\n",
    "                    copyfile(f\"1_assignments/HW2/submitted/{s}/Submission attachment(s)/{f}\",\n",
    "                             f\"{dest}.png\")\n",
    "                    \n",
    "                    \n",
    "                \n",
    "                # If word, try to convert to PDF (this is currently broken)\n",
    "                else:\n",
    "                    print(f\"**SKIPPED: 1_assignments/HW2/submitted/{s}/Submission attachment(s)/{f}\")\n",
    "                '''\n",
    "                elif '.doc' in f :\n",
    "\n",
    "                    in_file = os.path.abspath(f\"1_assignments/HW2/submitted/{s}/Submission attachment(s)/{f}\")\n",
    "                    out_file = os.path.abspath(f\"{dest}.pdf\")\n",
    "\n",
    "                    doc = word.Documents.Open(in_file)\n",
    "                    doc.SaveAs(out_file, FileFormat=wdFormatPDF)\n",
    "                    doc.Close()\n",
    "                ''' \n",
    "                i+=1\n",
    "        except:\n",
    "            print(f\"-----------Failed on {s} for file {f}----------------------\")"
   ]
  }
 ],
 "metadata": {
  "kernelspec": {
   "display_name": "Python 3",
   "language": "python",
   "name": "python3"
  },
  "language_info": {
   "codemirror_mode": {
    "name": "ipython",
    "version": 3
   },
   "file_extension": ".py",
   "mimetype": "text/x-python",
   "name": "python",
   "nbconvert_exporter": "python",
   "pygments_lexer": "ipython3",
   "version": "3.6.6"
  },
  "latex_envs": {
   "LaTeX_envs_menu_present": true,
   "autoclose": false,
   "autocomplete": true,
   "bibliofile": "biblio.bib",
   "cite_by": "apalike",
   "current_citInitial": 1,
   "eqLabelWithNumbers": true,
   "eqNumInitial": 1,
   "hotkeys": {
    "equation": "Ctrl-E",
    "itemize": "Ctrl-I"
   },
   "labels_anchors": false,
   "latex_user_defs": false,
   "report_style_numbering": false,
   "user_envs_cfg": false
  },
  "toc": {
   "base_numbering": 1,
   "nav_menu": {},
   "number_sections": true,
   "sideBar": true,
   "skip_h1_title": true,
   "title_cell": "Table of Contents",
   "title_sidebar": "Contents",
   "toc_cell": true,
   "toc_position": {},
   "toc_section_display": true,
   "toc_window_display": true
  },
  "varInspector": {
   "cols": {
    "lenName": 16,
    "lenType": 16,
    "lenVar": 40
   },
   "kernels_config": {
    "python": {
     "delete_cmd_postfix": "",
     "delete_cmd_prefix": "del ",
     "library": "var_list.py",
     "varRefreshCmd": "print(var_dic_list())"
    },
    "r": {
     "delete_cmd_postfix": ") ",
     "delete_cmd_prefix": "rm(",
     "library": "var_list.r",
     "varRefreshCmd": "cat(var_dic_list()) "
    }
   },
   "types_to_exclude": [
    "module",
    "function",
    "builtin_function_or_method",
    "instance",
    "_Feature"
   ],
   "window_display": false
  }
 },
 "nbformat": 4,
 "nbformat_minor": 4
}
